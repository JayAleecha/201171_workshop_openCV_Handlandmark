{
  "nbformat": 4,
  "nbformat_minor": 0,
  "metadata": {
    "colab": {
      "provenance": [],
      "collapsed_sections": [
        "Z8mjddN_aMs3",
        "BgP6jeEgn19P",
        "6a9MXYDIjPQU",
        "Aa05vPO2uE-g",
        "mlnWimFkg16N",
        "y2cCojlglGEA"
      ],
      "toc_visible": true,
      "include_colab_link": true
    },
    "kernelspec": {
      "name": "python3",
      "display_name": "Python 3"
    },
    "language_info": {
      "name": "python"
    }
  },
  "cells": [
    {
      "cell_type": "markdown",
      "metadata": {
        "id": "view-in-github",
        "colab_type": "text"
      },
      "source": [
        "<a href=\"https://colab.research.google.com/github/JayAleecha/201171_workshop_openCV_Handlandmark/blob/main/261200_LAB07_OOCDP_and_Obj_in_Obj.ipynb\" target=\"_parent\"><img src=\"https://colab.research.google.com/assets/colab-badge.svg\" alt=\"Open In Colab\"/></a>"
      ]
    },
    {
      "cell_type": "markdown",
      "source": [
        "# Lab 07: Objects in Objects\n",
        "\n",
        "* Course: 261200 Object-Oriented Programming\n",
        "* Prerequisite: 259201 or 261102 or 269102\n",
        "* Instructor: Navadon Khunlertgit\n",
        "\n"
      ],
      "metadata": {
        "id": "mmVWFaMVhIrm"
      }
    },
    {
      "cell_type": "markdown",
      "source": [
        "## Instructions\n",
        "\n",
        "* Lab นี้ถูกออกแบบมาให้ทำเป็นคู่ นักศึกษาสามารถตรวจสอบข้อมูลคู่ได้ที่  https://cmu.to/261200-2566-2-info\n",
        "* นักศึกษาเริ่มต้นโดยบันทึกสำเนา (save a copy) ของ Colab นี้ไว้ในบัญชี Google หรือ GitHub ของตนเอง\n",
        "* กรอกข้อมูลนักศึกษาใน Text cell ด้านล่าง จากนั้นทำ Lab โดยการแก้ไข Code cells อื่นๆ ที่เหลือจนครบ\n",
        "* นักศึกษาส่งงานโดยการแชร์ Colab ของนักศึกษาตัวแทน (1 คนต่อคู่) ไปที่อีเมล cpe200@googlegroups.com โดยให้กำหนดสิทธิ์เข้าถึงแบบ Editor (หรือ Edit permission) ภายใน Tue Jan 23, 2024 เวลา 23:00 น.\n",
        "* Colab ที่ใช้ส่งงาน จะแชร์ได้เฉพาะคู่นักศึกษากับ cpe200@googlegroups.com เท่านั้น ห้ามแชร์กับผู้อื่นนอกเหนือจากนี้ และห้ามแชร์แบบสาธารณะ (ห้ามแชร์แบบ Anyone with the link can access) หากพบว่ามีการแชร์ผิด คะแนน Lab ที่ได้จะถูกลงโทษโดยการลด 50%\n",
        "* Colab ที่แชร์หลังกำหนดจะไม่ได้รับการตรวจ"
      ],
      "metadata": {
        "id": "SeRWuaC-TJCf"
      }
    },
    {
      "cell_type": "markdown",
      "source": [
        "## Student Information\n",
        "ดับเบิลคลิกเซลล์นี้เพื่อเติมข้อมูลของนักศึกษา\n",
        "\n",
        "* Student #1: รหัสนักศึกษา ชื่อ-สกุล อีเมลที่ใช้กับ Colab\n",
        "* Student #2: รหัสนักศึกษา ชื่อ-สกุล อีเมลที่ใช้กับ Colab\n",
        "* Student #3: รหัสนักศึกษา ชื่อ-สกุล อีเมลที่ใช้กับ Colab (Student #3 ใช้เฉพาะกับกลุ่มที่ 2 ที่แจ้งว่ามี 3 คนเท่านั้น)"
      ],
      "metadata": {
        "id": "x3YVazBqPjWu"
      }
    },
    {
      "cell_type": "markdown",
      "source": [
        "## Lab 07A: Robotic Arm\n",
        "\n",
        "Design a Python program to simulate the movement of a robotic arm with various types of motors.\n",
        "\n",
        "\n",
        "\n"
      ],
      "metadata": {
        "id": "xd-LJIlsbJXX"
      }
    },
    {
      "cell_type": "markdown",
      "source": [
        "### Motor and ServoMotor"
      ],
      "metadata": {
        "id": "Z8mjddN_aMs3"
      }
    },
    {
      "cell_type": "markdown",
      "source": [
        "* Given these information:\n",
        " * a base class called `Motor` with attributes:\n",
        "   * `speed` (rpm) : current speed\n",
        "   * `speed_limit` (rpm) : speed limit\n",
        "   * `torque` (N-m) : current torque\n",
        "   * `torque_limit` (N-m) : torque limit\n",
        " * a derived class `ServoMotor` with additional attributes:\n",
        "   * `angle_range` (degrees)\n",
        "   * `angle` (degrees) : current angle"
      ],
      "metadata": {
        "id": "bquCXGvahevn"
      }
    },
    {
      "cell_type": "code",
      "execution_count": null,
      "metadata": {
        "id": "wWCq0wHdbF-s"
      },
      "outputs": [],
      "source": [
        "########## ห้ามแก้ไขเซลล์นี้ DO NOT MODIFY THIS CELL ##########\n",
        "class Motor:\n",
        "  def __init__(self, speed_limit, torque_limit):\n",
        "    self._speed_limit = speed_limit\n",
        "    self._torque_limit = torque_limit\n",
        "    self._speed = 0 # Idle status\n",
        "    self._torque = 0 # Idle status\n",
        "\n",
        "  @property\n",
        "  def speed_limit(self):\n",
        "    return self._speed_limit\n",
        "\n",
        "  @property\n",
        "  def speed(self):\n",
        "    return self._speed\n",
        "\n",
        "  @speed.setter\n",
        "  def speed(self, speed):\n",
        "    if(0 <= speed <= self._speed_limit):\n",
        "      self._speed = speed\n",
        "    else:\n",
        "      print(\"Invalid speed\")\n",
        "\n",
        "  @property\n",
        "  def torque_limit(self):\n",
        "    return self._torque_limit\n",
        "\n",
        "  @property\n",
        "  def torque(self):\n",
        "    return self._torque\n",
        "\n",
        "  @torque.setter\n",
        "  def torque(self, torque):\n",
        "    if(0 <= torque <= self._torque_limit):\n",
        "      self._torque = torque\n",
        "    else:\n",
        "      print(\"Invalid torque\")\n",
        "\n",
        "  def __str__(self):\n",
        "    return \"Motor {speed:\" + self._speed + \", torque:\" + self._torque + \"}\"\n",
        "\n",
        "  def check_validity(self, speed, torque):\n",
        "    if not (0 <= speed <= self._speed_limit):\n",
        "      print(\"Invalid speed\")\n",
        "      return False\n",
        "    if not (0 <= torque <= self._torque_limit):\n",
        "      print(\"Invalid torque\")\n",
        "      return False\n",
        "    return True\n",
        "\n",
        "  def move(self):\n",
        "    pass\n",
        "########## ห้ามแก้ไขเซลล์นี้ DO NOT MODIFY THIS CELL ##########"
      ]
    },
    {
      "cell_type": "code",
      "source": [
        "########## ห้ามแก้ไขเซลล์นี้ DO NOT MODIFY THIS CELL ##########\n",
        "class ServoMotor(Motor):\n",
        "  def __init__(self, speed_limit, torque_limit, angle_range):\n",
        "    super().__init__(speed_limit, torque_limit)\n",
        "    self._angle_range = angle_range\n",
        "    self._angle = 0  # Initial position\n",
        "\n",
        "  @property\n",
        "  def angle_range(self):\n",
        "    return self._angle_range\n",
        "\n",
        "  @property\n",
        "  def angle(self):\n",
        "    return self._angle\n",
        "\n",
        "  def check_validity(self, speed, torque, new_angle):\n",
        "    if super().check_validity(speed, torque):\n",
        "      if not (0 <= new_angle <= self._angle_range):\n",
        "        print(\"Invalid angle\")\n",
        "        return False\n",
        "    else:\n",
        "      return False\n",
        "    return True\n",
        "\n",
        "  def move(self, speed, torque, new_angle):\n",
        "    if self.check_validity(speed, torque, new_angle):\n",
        "      self._speed = speed\n",
        "      self._torque = torque\n",
        "      self._angle = new_angle\n",
        "    print(self)\n",
        "\n",
        "  def __str__(self):\n",
        "    return \"ServoMotor {speed:\" + str(self._speed) + \", torque:\" + str(self._torque) + \", angle:\" + str(self._angle) + \"}\"\n",
        "########## ห้ามแก้ไขเซลล์นี้ DO NOT MODIFY THIS CELL ##########"
      ],
      "metadata": {
        "id": "xf6DS6hp0bap"
      },
      "execution_count": null,
      "outputs": []
    },
    {
      "cell_type": "markdown",
      "source": [
        "The following code cell shows examples of `ServoMotor`'s `move` method."
      ],
      "metadata": {
        "id": "4mJ-QIvBp-oz"
      }
    },
    {
      "cell_type": "code",
      "source": [
        "########## ห้ามแก้ไขเซลล์นี้ DO NOT MODIFY THIS CELL ##########\n",
        "servo_motor = ServoMotor(speed_limit=100, torque_limit=5, angle_range=180)\n",
        "\n",
        "# servo_motor will move if the input parameters are valid\n",
        "# Code                        # Expected output\n",
        "servo_motor.move(40, 2, 72)   # Output: ServoMotor {speed:40, torque:2, angle:72}\n",
        "servo_motor.move(20, 1, 36)   # Output: ServoMotor {speed:20, torque:1, angle:36}\n",
        "\n",
        "# servo_motor will NOT move if the input parameters are invalid\n",
        "# Code                        # Expected output\n",
        "servo_motor.move(200, 3, 150) # Output: Invalid speed\n",
        "                              #         ServoMotor {speed:20, torque:1, angle:36}\n",
        "servo_motor.move(25, 25, 90)  # Output: Invalid torque\n",
        "                              #         ServoMotor {speed:20, torque:1, angle:36}\n",
        "servo_motor.move(100, 5, 270) # Output: Invalid speed\n",
        "                              #         ServoMotor {speed:20, torque:1, angle:36}\n",
        "########## ห้ามแก้ไขเซลล์นี้ DO NOT MODIFY THIS CELL ##########"
      ],
      "metadata": {
        "id": "TBZQ8bED3St-"
      },
      "execution_count": null,
      "outputs": []
    },
    {
      "cell_type": "markdown",
      "source": [
        "### Stepper Motor\n",
        "\n"
      ],
      "metadata": {
        "id": "BgP6jeEgn19P"
      }
    },
    {
      "cell_type": "markdown",
      "source": [
        "#### TODO: Task 01\n",
        "\n",
        "Complete the derived class `StepperMotor` with additional attributes:\n",
        "* `max_steps`\n",
        "* `step` : current position"
      ],
      "metadata": {
        "id": "6a9MXYDIjPQU"
      }
    },
    {
      "cell_type": "code",
      "source": [
        "# TODO แก้ไขเซลล์นี้โดยการเติมโค้ดที่ถูกต้อง\n",
        "class StepperMotor(Motor):\n",
        "  pass\n",
        "\n",
        "  def __str__(self):\n",
        "    return \"StepperMotor {speed:\" + str(self._speed) + \", torque:\" + str(self._torque) + \", step:\" + str(self._step) + \"}\""
      ],
      "metadata": {
        "id": "8FdpREfrfj_V"
      },
      "execution_count": null,
      "outputs": []
    },
    {
      "cell_type": "markdown",
      "source": [
        "The following code cell shows examples of `StepperMotor`'s `move` method.\n",
        "\n"
      ],
      "metadata": {
        "id": "f7NO1DEXr0E3"
      }
    },
    {
      "cell_type": "code",
      "source": [
        "########## ห้ามแก้ไขเซลล์นี้ DO NOT MODIFY THIS CELL ##########\n",
        "servo_motor = ServoMotor(speed_limit=100, torque_limit=5, angle_range=180)\n",
        "stepper_motor = StepperMotor(speed_limit=160, torque_limit=8, max_steps= 24)\n",
        "\n",
        "motors = [servo_motor, stepper_motor]\n",
        "\n",
        "# Demonstrate polymorphism by iterating through the list and moving each motor\n",
        "# each motors will move only if the input parameters are valid\n",
        "\n",
        "# Code                      # Expected output\n",
        "motors[0].move(50, 3, 30)   # ServoMotor {speed:50, torque:3, angle:30}\n",
        "motors[0].move(75, 2, 90)   # ServoMotor {speed:75, torque:2, angle:90}\n",
        "print()\n",
        "motors[1].move(80, 4, 12)   # StepperMotor {speed: 80, torque: 4, step:12}\n",
        "motors[1].move(180, 4, 12)  # Invalid speed\n",
        "                            # StepperMotor {speed: 80, torque: 4, step:12}\n",
        "motors[1].move(120, 9, 13)  # Invalid torque\n",
        "                            # StepperMotor {speed: 80, torque: 4, step:12}\n",
        "motors[1].move(90, 5, 36)   # Invalid step\n",
        "                            # StepperMotor {speed: 80, torque: 4, step:12}\n",
        "motors[1].move(120, 4, 15)  # StepperMotor {speed: 120, torque: 4, step: 15}\n",
        "\n",
        "########## ห้ามแก้ไขเซลล์นี้ DO NOT MODIFY THIS CELL ##########"
      ],
      "metadata": {
        "id": "JmMNTls-gQF5"
      },
      "execution_count": null,
      "outputs": []
    },
    {
      "cell_type": "markdown",
      "source": [
        "### Robotic Arm"
      ],
      "metadata": {
        "id": "Aa05vPO2uE-g"
      }
    },
    {
      "cell_type": "code",
      "source": [
        "########## ห้ามแก้ไขเซลล์นี้ DO NOT MODIFY THIS CELL ##########\n",
        "class RoboticArm:\n",
        "  def __init__(self, motors):\n",
        "    self._motors = motors\n",
        "\n",
        "  @property\n",
        "  def motors(self):\n",
        "    return self._motors\n",
        "\n",
        "  def add_motor(self, motor):\n",
        "    self._motors.append(motor)\n",
        "\n",
        "  def move_arm(self):\n",
        "    self._motors[0].move(20, 5, 30)\n",
        "    self._motors[1].move(20, 5, 1)\n",
        "########## ห้ามแก้ไขเซลล์นี้ DO NOT MODIFY THIS CELL ##########"
      ],
      "metadata": {
        "id": "f0Kt3WJKgzje"
      },
      "execution_count": null,
      "outputs": []
    },
    {
      "cell_type": "code",
      "source": [
        "########## ห้ามแก้ไขเซลล์นี้ DO NOT MODIFY THIS CELL ##########\n",
        "robotic_arm = RoboticArm(motors=[])\n",
        "########## ห้ามแก้ไขเซลล์นี้ DO NOT MODIFY THIS CELL ##########"
      ],
      "metadata": {
        "id": "vrvmJD0jguk8"
      },
      "execution_count": null,
      "outputs": []
    },
    {
      "cell_type": "markdown",
      "source": [
        "#### TODO: Task 02\n",
        "\n",
        "Given the `RoboticArm` class and `robotic_arm` object.\n",
        "Put three motors in it. The **first** is a servo motor with an angle range of **180** degrees, a speed limit of **100** rpm, and a torque limit of **5** N-m. The **second** is a stepper motor, which has a maximum step count of **36**, a torque limit of **6**, and a speed limit of **120** rpm. When using the `add_motor` method, you can use an anonymous object (using object without giving it a name)."
      ],
      "metadata": {
        "id": "mlnWimFkg16N"
      }
    },
    {
      "cell_type": "code",
      "source": [
        "# TODO แก้ไขเซลล์นี้โดยการเติมโค้ดที่ถูกต้อง\n",
        "# robotic_arm.add_motor(_____)\n",
        "# robotic_arm.add_motor(_____)"
      ],
      "metadata": {
        "id": "RZcqN5RoerNL"
      },
      "execution_count": null,
      "outputs": []
    },
    {
      "cell_type": "code",
      "source": [
        "########## ห้ามแก้ไขเซลล์นี้ DO NOT MODIFY THIS CELL ##########\n",
        "# Code                  # Expected output\n",
        "robotic_arm.move_arm()  # ServoMotor {speed:20, torque:5, angle:30}\n",
        "                        # StepperMotor {speed:20, torque:5, step:1}\n",
        "########## ห้ามแก้ไขเซลล์นี้ DO NOT MODIFY THIS CELL ##########"
      ],
      "metadata": {
        "id": "VZoDc8ATgNNS"
      },
      "execution_count": null,
      "outputs": []
    },
    {
      "cell_type": "markdown",
      "source": [
        "#### TODO: Task 03\n",
        "\n",
        "Question: หากเปลี่ยน `move_arm` method ของ `RoboticArm` class ดังนี้\n",
        "\n",
        "```\n",
        "  def move_arm(self):\n",
        "    self._motors[0].move(20, 5, 210)\n",
        "    self._motors[1].move(20, 5, 45)\n",
        "```\n",
        "\n",
        "ผลลัพธ์ของการเรียกใช้ `robotic_arm.move_arm()` จะเปลี่ยนไปเป็นอย่างไร\n",
        "จงอธิบายว่า motor แต่ละตัวจะมีปัญหาการเรียกใช้หรือไม่ อย่างไร?"
      ],
      "metadata": {
        "id": "y2cCojlglGEA"
      }
    },
    {
      "cell_type": "markdown",
      "source": [
        "Answer: ดับเบิลคลิกเซลล์นี้ เพื่อพิมพ์คำตอบ"
      ],
      "metadata": {
        "id": "o6OmtZ9VmRkv"
      }
    }
  ]
}